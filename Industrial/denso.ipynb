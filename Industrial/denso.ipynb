{
 "cells": [
  {
   "cell_type": "code",
   "execution_count": 1,
   "metadata": {},
   "outputs": [],
   "source": [
    "import os\n",
    "import time\n",
    "import numpy as np\n",
    "import pybullet as p\n",
    "import pybullet_data\n",
    "import pybullet_industrial as pi"
   ]
  },
  {
   "cell_type": "code",
   "execution_count": 2,
   "metadata": {},
   "outputs": [],
   "source": [
    "def summon(id,pos):\n",
    "    dirname = os.getcwd()\n",
    "    print(dirname)\n",
    "    if id==\"battery\":\n",
    "        battery_path = os.path.join(dirname, 'battery',\"battery.urdf\")\n",
    "        battery = p.loadURDF(battery_path,np.array(\n",
    "                [pos[0], pos[1], pos[2]]) + start_pos)\n",
    "    elif id==\"bot\":\n",
    "        bot_path = os.path.join(dirname, 'battery',\"bot.urdf\")\n",
    "        bot = p.loadURDF(bot_path,np.array(\n",
    "                [pos[0], pos[1], pos[2]]) + start_pos)\n",
    "    elif id==\"mid\":\n",
    "        mid_path = os.path.join(dirname, 'battery',\"mid.urdf\")\n",
    "        mid = p.loadURDF(mid_path,np.array(\n",
    "                [pos[0], pos[1], pos[2]]) + start_pos)\n",
    "    elif id==\"top\":\n",
    "        top_path = os.path.join(dirname, 'battery',\"top.urdf\")\n",
    "        top = p.loadURDF(top_path,np.array(\n",
    "                [pos[0], pos[1], pos[2]]) + start_pos)\n",
    "    else:\n",
    "        print(\"no such id\")"
   ]
  },
  {
   "cell_type": "code",
   "execution_count": 3,
   "metadata": {},
   "outputs": [],
   "source": [
    "physics_client = p.connect(p.GUI, options='--background_color_red=1 ' +\n",
    "                                              '--background_color_green=1 ' +\n",
    "                                              '--background_color_blue=1')\n",
    "p.setAdditionalSearchPath(pybullet_data.getDataPath())\n",
    "\n",
    "p.setGravity(0, 0, -10)\n",
    "p.loadURDF(\"plane100.urdf\", useMaximalCoordinates=True)\n",
    "#disable rendering during creation.\n",
    "p.configureDebugVisualizer(p.COV_ENABLE_GUI, 1)\n",
    "p.setPhysicsEngineParameter(numSolverIterations=1000)"
   ]
  },
  {
   "cell_type": "code",
   "execution_count": 4,
   "metadata": {},
   "outputs": [
    {
     "name": "stdout",
     "output_type": "stream",
     "text": [
      "d:\\pybullet_weldingrobot\\Industrial\n"
     ]
    }
   ],
   "source": [
    " # get current path \n",
    "dirname = os.getcwd()\n",
    "dirname = os.path.join(dirname,'examples')\n",
    "dirname = os.path.join(dirname,'denso_robot_descriptions')\n",
    "dirname = os.path.join(dirname,'vs060_description')\n",
    "urdf_file1 = os.path.join(dirname,\n",
    "                            'vs060.urdf')\n",
    "dirname = os.getcwd()\n",
    "print(dirname)\n",
    "#urdf_file1 = os.path.join(dirname,\n",
    "#                            'robot_descriptions','comau_nj290_robot.urdf')"
   ]
  },
  {
   "cell_type": "code",
   "execution_count": 5,
   "metadata": {},
   "outputs": [],
   "source": [
    "start_pos = np.array([0, 0, 0])\n",
    "cube1 = p.loadURDF(\"cube.urdf\", np.array(\n",
    "        [0, 0, 0.5]) + start_pos, useFixedBase=True)\n",
    "cube2 = p.loadURDF(\"cube.urdf\", np.array(\n",
    "        [0.5, 0, 0.5]) + start_pos, useFixedBase=True)\n",
    "start_orientation = p.getQuaternionFromEuler([0, 0, 0])\n",
    "robot = pi.RobotBase(urdf_file1, start_pos + [0, 0, 1], start_orientation)\n",
    "#for _ in range(100):\n",
    "#        p.stepSimulation()"
   ]
  },
  {
   "cell_type": "code",
   "execution_count": 18,
   "metadata": {},
   "outputs": [
    {
     "name": "stdout",
     "output_type": "stream",
     "text": [
      "d:\\pybullet_simulation\\Industrial\n",
      "d:\\pybullet_simulation\\Industrial\n",
      "d:\\pybullet_simulation\\Industrial\n",
      "d:\\pybullet_simulation\\Industrial\n"
     ]
    }
   ],
   "source": [
    "# Candidates : battery, bot, mid, top\n",
    "summon(\"battery\",[0.7, 0, 1])\n",
    "summon(\"bot\",[0.6, 0, 1])\n",
    "summon(\"mid\",[0.5, 0, 1])\n",
    "summon(\"top\",[0.4, 0, 1])\n",
    "\n",
    "p.setRealTimeSimulation(1)"
   ]
  },
  {
   "cell_type": "code",
   "execution_count": 53,
   "metadata": {},
   "outputs": [
    {
     "name": "stdout",
     "output_type": "stream",
     "text": [
      "d:\\pybullet_simulation\\Industrial\n"
     ]
    }
   ],
   "source": [
    "dirname = os.getcwd()\n",
    "urdf_file2 = os.path.join(dirname,\n",
    "                            'examples','robot_descriptions', 'adhesive_gripper.urdf')\n",
    "extruder_properties = {'maximum distance': 0.1,\n",
    "                        'opening angle': 0,\n",
    "                        'material': pi.Plastic2,\n",
    "                        'material properties': {'particle size':0.002,\n",
    "                                                'color' : [1, 1, 0, 1]},\n",
    "                        'number of rays': 1}\n",
    "extruder = pi.Extruder(\n",
    "    urdf_file2, [1.9, 0, 1.2], start_orientation, extruder_properties)\n",
    "extruder.couple(robot, 'link6')\n",
    "summon(\"bot\",[0.43, 0, 1])"
   ]
  },
  {
   "cell_type": "code",
   "execution_count": 54,
   "metadata": {},
   "outputs": [
    {
     "ename": "",
     "evalue": "",
     "output_type": "error",
     "traceback": [
      "\u001b[1;31mThe Kernel crashed while executing code in the current cell or a previous cell. \n",
      "\u001b[1;31mPlease review the code in the cell(s) to identify a possible cause of the failure. \n",
      "\u001b[1;31mClick <a href='https://aka.ms/vscodeJupyterKernelCrash'>here</a> for more info. \n",
      "\u001b[1;31mView Jupyter <a href='command:jupyter.viewOutput'>log</a> for further details."
     ]
    }
   ],
   "source": [
    "p.setRealTimeSimulation(1)\n",
    "# 1-1\n",
    "target_position = np.array([0.410, -0.14, 1.02])\n",
    "steps = 50\n",
    "test_path = pi.build_box_path(\n",
    "    target_position, [0.014, 0.09], 0.00001, [0, 0, 0, 1], steps)\n",
    "for i in range(50):\n",
    "    extruder.set_tool_pose(*test_path.get_start_pose())\n",
    "    for _ in range(30):\n",
    "        p.stepSimulation()\n",
    "\n",
    "test_path.draw()\n",
    "\n",
    "for positions, orientations, _ in test_path:\n",
    "            extruder.set_tool_pose(\n",
    "                positions, p.getQuaternionFromEuler([0, 0, 0]))\n",
    "            position, orientation = extruder.get_tool_pose()\n",
    "            particle = extruder.extrude()\n",
    "\n",
    "\n",
    "# 1-2\n",
    "target_position = np.array([0.410+0.03, -0.14, 1.02])\n",
    "test_path = pi.build_box_path(\n",
    "    target_position, [0.014, 0.09], 0.00001, [0, 0, 0, 1], steps)\n",
    "for i in range(50):\n",
    "    extruder.set_tool_pose(*test_path.get_start_pose())\n",
    "    for _ in range(30):\n",
    "        p.stepSimulation()\n",
    "\n",
    "test_path.draw()\n",
    "\n",
    "for positions, orientations, _ in test_path:\n",
    "            extruder.set_tool_pose(\n",
    "                positions, p.getQuaternionFromEuler([0, 0, 0]))\n",
    "            position, orientation = extruder.get_tool_pose()\n",
    "            particle = extruder.extrude()\n",
    "\n",
    "\n",
    "# 1-3\n",
    "target_position = np.array([0.410+0.03, 0, 1.02])\n",
    "test_path = pi.build_box_path(\n",
    "    target_position, [0.014, 0.09], 0.00001, [0, 0, 0, 1], steps)\n",
    "for i in range(50):\n",
    "    extruder.set_tool_pose(*test_path.get_start_pose())\n",
    "    for _ in range(30):\n",
    "        p.stepSimulation()\n",
    "\n",
    "test_path.draw()\n",
    "\n",
    "for positions, orientations, _ in test_path:\n",
    "            extruder.set_tool_pose(\n",
    "                positions, p.getQuaternionFromEuler([0, 0, 0]))\n",
    "            position, orientation = extruder.get_tool_pose()\n",
    "            particle = extruder.extrude()\n",
    "\n",
    "# 2-1\n",
    "target_position = np.array([0.410, 0, 1.02])\n",
    "test_path = pi.build_box_path(\n",
    "    target_position, [0.014, 0.09], 0.00001, [0, 0, 0, 1], steps)\n",
    "for i in range(50):\n",
    "    extruder.set_tool_pose(*test_path.get_start_pose())\n",
    "    for _ in range(30):\n",
    "        p.stepSimulation()\n",
    "\n",
    "test_path.draw()\n",
    "\n",
    "for positions, orientations, _ in test_path:\n",
    "            extruder.set_tool_pose(\n",
    "                positions, p.getQuaternionFromEuler([0, 0, 0]))\n",
    "            position, orientation = extruder.get_tool_pose()\n",
    "            particle = extruder.extrude()\n",
    "\n",
    "# 3-1\n",
    "target_position = np.array([0.410, 0.13, 1.02])\n",
    "test_path = pi.build_box_path(\n",
    "    target_position, [0.014, 0.09], 0.00001, [0, 0, 0, 1], steps)\n",
    "for i in range(50):\n",
    "    extruder.set_tool_pose(*test_path.get_start_pose())\n",
    "    for _ in range(30):\n",
    "        p.stepSimulation()\n",
    "\n",
    "test_path.draw()\n",
    "\n",
    "for positions, orientations, _ in test_path:\n",
    "            extruder.set_tool_pose(\n",
    "                positions, p.getQuaternionFromEuler([0, 0, 0]))\n",
    "            position, orientation = extruder.get_tool_pose()\n",
    "            particle = extruder.extrude()\n"
   ]
  },
  {
   "cell_type": "code",
   "execution_count": 51,
   "metadata": {},
   "outputs": [
    {
     "data": {
      "text/plain": [
       "0"
      ]
     },
     "execution_count": 51,
     "metadata": {},
     "output_type": "execute_result"
    }
   ],
   "source": [
    "p.resetSimulation()\n",
    "p.setGravity(0, 0, -10)\n",
    "p.loadURDF(\"plane100.urdf\", useMaximalCoordinates=True)"
   ]
  },
  {
   "cell_type": "code",
   "execution_count": 8,
   "metadata": {},
   "outputs": [],
   "source": [
    "urdf_file3 = os.path.join(dirname,'examples', 'robot_descriptions', 'camera.urdf')\n",
    "camera_parameters = {'width': 480, 'height': 240, 'fov': 60,\n",
    "                         'aspect ratio': 1, 'near plane distance': 0.01, 'far plane distance': 2}\n",
    "camera_orientation = p.getQuaternionFromEuler([np.pi, 0, np.pi/2])\n",
    "camera = pi.Camera(urdf_file3, [0.5, 0, 1.5],\n",
    "                    camera_orientation, camera_parameters)\n",
    "img = camera.get_image()\n"
   ]
  },
  {
   "cell_type": "code",
   "execution_count": 10,
   "metadata": {},
   "outputs": [],
   "source": [
    "ang_unit = np.pi/18\n",
    "length = 1\n",
    "height = 1\n",
    "\n",
    "for i in range(-10, 11):\n",
    "   angle = ang_unit*i\n",
    "   distance = np.sin(ang_unit*i)*length\n",
    "   camera_orientation = p.getQuaternionFromEuler([np.pi+angle, 0, np.pi/2])\n",
    "   camera = pi.Camera(urdf_file3, [0.5+distance, 0, height + length*np.cos(ang_unit*i)],\n",
    "                camera_orientation, camera_parameters)\n"
   ]
  },
  {
   "cell_type": "code",
   "execution_count": 11,
   "metadata": {},
   "outputs": [],
   "source": [
    "y_angle = np.pi/18\n",
    "for i in range(-10, 11):\n",
    "   angle = ang_unit*i\n",
    "   distance = np.sin(ang_unit*i)*length\n",
    "   camera_orientation = p.getQuaternionFromEuler([np.pi+angle, 0, np.pi/2])\n",
    "   camera = pi.Camera(urdf_file3, [0.5+distance, 0, height + length*np.cos(ang_unit*i)],\n",
    "                camera_orientation, camera_parameters)"
   ]
  },
  {
   "cell_type": "code",
   "execution_count": 16,
   "metadata": {},
   "outputs": [
    {
     "data": {
      "text/plain": [
       "0"
      ]
     },
     "execution_count": 16,
     "metadata": {},
     "output_type": "execute_result"
    }
   ],
   "source": [
    "p.resetSimulation()\n",
    "p.setGravity(0, 0, -10)\n",
    "p.loadURDF(\"plane100.urdf\", useMaximalCoordinates=True)"
   ]
  },
  {
   "cell_type": "code",
   "execution_count": 17,
   "metadata": {},
   "outputs": [],
   "source": [
    "p.setRealTimeSimulation(1)"
   ]
  },
  {
   "cell_type": "code",
   "execution_count": 47,
   "metadata": {},
   "outputs": [],
   "source": [
    "import cv2\n",
    "dirname = os.getcwd()\n",
    "dirname = os.path.join(dirname,'battery_datasets','battery_cell')\n",
    "imagenum = 0"
   ]
  },
  {
   "cell_type": "code",
   "execution_count": 70,
   "metadata": {},
   "outputs": [],
   "source": [
    "img = camera.get_image()\n",
    "img_rgb = cv2.cvtColor(img, cv2.COLOR_BGR2RGB)\n",
    "# save image\n",
    "# imagenum to str\n",
    "str_imagenum = str(imagenum)\n",
    "cv2.imwrite(dirname+\"//image\"+str_imagenum+\".png\", img_rgb)   \n",
    "# save image \n",
    "imagenum+=1"
   ]
  },
  {
   "cell_type": "code",
   "execution_count": 62,
   "metadata": {},
   "outputs": [
    {
     "name": "stdout",
     "output_type": "stream",
     "text": [
      "d:\\pybullet_simulation\\Industrial\n"
     ]
    }
   ],
   "source": [
    "summon(\"mid\",[0.5, 0, 1])"
   ]
  }
 ],
 "metadata": {
  "kernelspec": {
   "display_name": "Python 3",
   "language": "python",
   "name": "python3"
  },
  "language_info": {
   "codemirror_mode": {
    "name": "ipython",
    "version": 3
   },
   "file_extension": ".py",
   "mimetype": "text/x-python",
   "name": "python",
   "nbconvert_exporter": "python",
   "pygments_lexer": "ipython3",
   "version": "3.12.7"
  }
 },
 "nbformat": 4,
 "nbformat_minor": 2
}
