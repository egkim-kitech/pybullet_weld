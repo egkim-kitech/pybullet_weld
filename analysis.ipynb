{
 "cells": [
  {
   "cell_type": "code",
   "execution_count": 1,
   "metadata": {},
   "outputs": [
    {
     "name": "stdout",
     "output_type": "stream",
     "text": [
      "c:\\Users\\b34b3\\AppData\\Local\\Programs\\Python\\Python312\\Lib\\site-packages\\pybullet_data\n"
     ]
    }
   ],
   "source": [
    "import pybullet_data\n",
    "import pybullet as p\n",
    "import pybullet_industrial as pi\n",
    "import os\n",
    "import time\n",
    "import numpy as np\n",
    "\n",
    "p.connect(p.GUI)  # Use p.DIRECT for headless\n",
    "\n",
    "data_path = pybullet_data.getDataPath()\n",
    "p.setAdditionalSearchPath(pybullet_data.getDataPath())\n",
    "print(pybullet_data.getDataPath())\n",
    "plane_id = p.loadURDF(\"plane.urdf\")\n",
    "\n",
    "# Get the path to the PyBullet data directory\n",
    "data_path = pybullet_data.getDataPath()\n",
    "\n",
    "# List the files in the PyBullet data directory\n",
    "files = os.getcwd()\n",
    "dirname = os.path.join(files,'robots')\n",
    "assets = os.path.join(files,'assets')\n",
    "\n",
    "urdf_file1 = os.path.join(dirname,'rb5_850e.urdf')\n",
    "asset1 = os.path.join(assets,'specimen.urdf')\n",
    "#endeffector = os.path.join(assets,'endeffector.urdf')\n",
    "endeffector = os.path.join(assets,\n",
    "                                'gripper_cylinder.urdf')\n",
    "\n",
    "start_orientation = p.getQuaternionFromEuler([0, 0, 0])\n",
    "\n",
    "cube1 = p.loadURDF(\"cube.urdf\", np.array(\n",
    "        [0, 0, 0.5]), useFixedBase=True)\n",
    "robot = pi.RobotBase(urdf_file1, np.array(\n",
    "        [0, 0, 1]), start_orientation)\n",
    "cube2 = p.loadURDF(\"cube.urdf\", np.array(\n",
    "        [1, 0, 0.5]), useFixedBase=True)\n",
    "specimen = p.loadURDF(asset1, np.array(\n",
    "       [1.0, 0, 1.3]), useFixedBase=True)\n",
    "meshScale = [1, 1, 1]\n",
    "\n",
    "pi.draw_robot_frames(robot, life_time=0)\n",
    "\n",
    "tool = pi.EndeffectorTool(endeffector, np.array([2.0, 0, 1.5]), start_orientation, robot)\n",
    "\n",
    "#camera = pi.Camera([2, 1, 1.5], [0, 0, 0], [0, 0, 1], 0.5, 0.5, 640, 480)\n",
    "\n",
    "# Set end-effector\n",
    "# tool_properties = {'maximum distance': 0.1,\n",
    "#                         'opening angle': 0,\n",
    "#                         'material': pi.Plastic,\n",
    "#                         'material properties': {'particle size':0.002,\n",
    "#                                                 'color' : [1, 1, 0, 1]},\n",
    "#                         'number of rays': 1}\n",
    "\n",
    "# tool = pi.Extruder(\n",
    "#     endeffector, [2.0, 0, 1.5], start_orientation, tool_properties)\n",
    "# tool.couple(robot, 'tcp')\n",
    "\n",
    "# Set gravity\n",
    "p.setGravity(0, 0, -9.81)\n",
    "\n",
    "#extruder.set_tool_pose([0,0,0], p.getQuaternionFromEuler([0, 0, 0]))\n",
    "\n",
    "# Simulate for 10 seconds\n",
    "\n",
    "#for i in range(240 * 20):  # 240 Hz simulation frequency\n",
    "#    p.stepSimulation()\n",
    "#    time.sleep(1./240.)"
   ]
  },
  {
   "cell_type": "code",
   "execution_count": 2,
   "metadata": {},
   "outputs": [],
   "source": [
    "def check_collision(visualize=False):\n",
    "    contacts = p.getContactPoints() \n",
    "    contacts = [c for c in contacts if c[1] >= 4] # 로봇의 베이스나, 엔드이펙터와 플랜지사이의 충돌은 무시\n",
    "    if contacts:\n",
    "        print(\"TCP 링크가 무언가와 충돌 발생!\")\n",
    "        for contact in contacts:\n",
    "            print(contact)\n",
    "    \n",
    "    if visualize:\n",
    "        for c in contacts:\n",
    "            pos_onB = c[6]\n",
    "            p.removeAllUserDebugItems()\n",
    "            p.addUserDebugPoints(\n",
    "                pointPositions=[pos_onB],\n",
    "                pointColorsRGB=[[1, 0, 0]],   # 빨간색\n",
    "                pointSize=50,\n",
    "                lifeTime=10\n",
    "            )\n",
    "\n",
    "def update_camera(camera_position, camera_orientation):\n",
    "    camera_id = None\n",
    "    for body_id in range(p.getNumBodies()):\n",
    "        body_name = p.getBodyInfo(body_id)[1].decode()\n",
    "        if \"camera\" in body_name:  # 카메라 URDF 파일명이 포함된 경우\n",
    "            camera_id = body_id\n",
    "            break\n",
    "    pos_offset = np.array([0.1, 0, 0.04])\n",
    "    ori_offset = np.array([0.5, 0.5, 0, 0])\n",
    "    p.resetBasePositionAndOrientation(camera_id, camera_position + pos_offset, camera_orientation + ori_offset)\n",
    "\n",
    "base_pose = np.array([0, 0, 0.5])\n",
    "set_pose = np.array([0.857, 0, 0.81])\n",
    "base_orientation = np.array([1.57, 0, 1.57])\n",
    "\n",
    "target_pose = base_pose + set_pose\n",
    "\n",
    "urdf_file3 = os.path.join(assets, 'camera.urdf')\n",
    "camera_parameters = {'width': 480, 'height': 240, 'fov': 60,\n",
    "                         'aspect ratio': 1, 'near plane distance': 0.01, 'far plane distance': 2}\n",
    "camera_orientation = p.getQuaternionFromEuler([1.57, 0, 1.57])\n",
    "camera_position = tool.get_tool_pose()[0] +  np.array([0, 0, 0])\n",
    "camera = pi.Camera(urdf_file3, camera_position,\n",
    "                    camera_orientation, camera_parameters)\n",
    "\n",
    "for _ in range(240 * 1):  # 240 Hz simulation frequency\n",
    "    tool.set_tool_pose(target_pose, p.getQuaternionFromEuler(base_orientation))\n",
    "    camera_orientation = p.getQuaternionFromEuler([1.57, 0, 1.57])\n",
    "    camera_position = tool.get_tool_pose()[0] +  np.array([0, 0, 0])\n",
    "    update_camera(camera_position, camera_orientation)\n",
    "    img = camera.get_image()\n",
    "    p.stepSimulation()\n",
    "    #time.sleep(1./240.)\n",
    "\n",
    "check_collision(visualize=True)\n"
   ]
  },
  {
   "cell_type": "code",
   "execution_count": 4,
   "metadata": {},
   "outputs": [],
   "source": [
    "urdf_file3 = os.path.join(assets, 'camera.urdf')\n",
    "camera_parameters = {'width': 480, 'height': 240, 'fov': 60,\n",
    "                         'aspect ratio': 1, 'near plane distance': 0.01, 'far plane distance': 2}\n",
    "camera_orientation = p.getQuaternionFromEuler([1.57, 0, 1.57])\n",
    "camera_position = tool.get_tool_pose()[0] +  np.array([0, 0, 0])\n",
    "camera = pi.Camera(urdf_file3, camera_position,\n",
    "                    camera_orientation, camera_parameters)\n",
    "img = camera.get_image()"
   ]
  },
  {
   "cell_type": "code",
   "execution_count": 5,
   "metadata": {},
   "outputs": [
    {
     "name": "stdout",
     "output_type": "stream",
     "text": [
      "찾은 카메라의 Body ID: 6\n"
     ]
    }
   ],
   "source": [
    "camera_id = None\n",
    "for body_id in range(p.getNumBodies()):\n",
    "    body_name = p.getBodyInfo(body_id)[1].decode()\n",
    "    if \"camera\" in body_name:  # 카메라 URDF 파일명이 포함된 경우\n",
    "        camera_id = body_id\n",
    "        break\n",
    "\n",
    "print(\"찾은 카메라의 Body ID:\", camera_id)"
   ]
  },
  {
   "cell_type": "code",
   "execution_count": 10,
   "metadata": {},
   "outputs": [
    {
     "name": "stdout",
     "output_type": "stream",
     "text": [
      "Body ID: 0 Body Name: plane\n",
      "Body ID: 1 Body Name: cube\n",
      "Body ID: 2 Body Name: rb5_850e\n",
      "Body ID: 3 Body Name: cube\n",
      "Body ID: 4 Body Name: my_specimen\n",
      "Body ID: 5 Body Name: gripper\n",
      "Body ID: 6 Body Name: camera\n",
      "Body ID: 7 Body Name: camera\n"
     ]
    }
   ],
   "source": [
    "for body_id in range(p.getNumBodies()):\n",
    "    body_info = p.getBodyInfo(body_id)  # 바디 정보 가져오기\n",
    "    print(\"Body ID:\", body_id, \"Body Name:\", body_info[1].decode())  # UTF-8 변환"
   ]
  },
  {
   "cell_type": "code",
   "execution_count": 6,
   "metadata": {},
   "outputs": [],
   "source": [
    "pos_offset = np.array([0.1, 0, 0.04])\n",
    "ori_offset = np.array([0.5, 0.5, 0, 0])\n",
    "p.resetBasePositionAndOrientation(camera_id, camera_position + pos_offset, camera_orientation + ori_offset)\n",
    "img = camera.get_image()"
   ]
  },
  {
   "cell_type": "code",
   "execution_count": 3,
   "metadata": {},
   "outputs": [],
   "source": [
    "img = camera.get_image()"
   ]
  }
 ],
 "metadata": {
  "kernelspec": {
   "display_name": "Python 3",
   "language": "python",
   "name": "python3"
  },
  "language_info": {
   "codemirror_mode": {
    "name": "ipython",
    "version": 3
   },
   "file_extension": ".py",
   "mimetype": "text/x-python",
   "name": "python",
   "nbconvert_exporter": "python",
   "pygments_lexer": "ipython3",
   "version": "3.12.7"
  }
 },
 "nbformat": 4,
 "nbformat_minor": 2
}
