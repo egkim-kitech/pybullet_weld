{
 "cells": [
  {
   "cell_type": "code",
   "execution_count": 1,
   "metadata": {},
   "outputs": [
    {
     "name": "stdout",
     "output_type": "stream",
     "text": [
      "Available models in PyBullet data:\n",
      "block.urdf\n",
      "cartpole.urdf\n",
      "cloth_z_up.urdf\n",
      "cube.urdf\n",
      "cube_collisionfilter.urdf\n",
      "cube_no_rotation.urdf\n",
      "cube_rotate.urdf\n",
      "cube_small.urdf\n",
      "duck_vhacd.urdf\n",
      "pendulum5.urdf\n",
      "plane.urdf\n",
      "plane100.urdf\n",
      "plane_implicit.urdf\n",
      "plane_stadium.sdf\n",
      "plane_transparent.urdf\n",
      "pr2_gripper.urdf\n",
      "r2d2.urdf\n",
      "samurai.urdf\n",
      "soccerball.urdf\n",
      "sphere2.urdf\n",
      "sphere2red.urdf\n",
      "sphere2red_nocol.urdf\n",
      "sphere8cube.urdf\n",
      "sphere_1cm.urdf\n",
      "sphere_small.urdf\n",
      "sphere_transparent.urdf\n",
      "sphere_with_restitution.urdf\n",
      "spherical_joint_limit.urdf\n",
      "stadium.sdf\n",
      "stadium_no_collision.sdf\n",
      "teddy_large.urdf\n",
      "teddy_vhacd.urdf\n",
      "torus_deform.urdf\n",
      "TwoJointRobot_wo_fixedJoints.urdf\n",
      "TwoJointRobot_w_fixedJoints.urdf\n"
     ]
    }
   ],
   "source": [
    "import pybullet_data\n",
    "import os\n",
    "\n",
    "# Get the path to the PyBullet data directory\n",
    "data_path = pybullet_data.getDataPath()\n",
    "\n",
    "# List the files in the PyBullet data directory\n",
    "files = os.listdir(data_path)\n",
    "\n",
    "# Filter out models (typically URDF and SDF files)\n",
    "models = [file for file in files if file.endswith('.urdf') or file.endswith('.sdf')]\n",
    "\n",
    "# Print the list of models\n",
    "print(\"Available models in PyBullet data:\")\n",
    "for model in models:\n",
    "    print(model)"
   ]
  },
  {
   "cell_type": "code",
   "execution_count": 4,
   "metadata": {},
   "outputs": [],
   "source": [
    "import pybullet as p\n",
    "import time\n",
    "import pybullet_data\n",
    "\n",
    "# Connect to the physics server\n",
    "p.connect(p.GUI)  # Use p.DIRECT for headless\n",
    "\n",
    "# Set the search path to find URDF files\n",
    "p.setAdditionalSearchPath(pybullet_data.getDataPath())\n",
    "\n",
    "# Load the plane\n",
    "plane_id = p.loadURDF(\"plane.urdf\")\n",
    "\n",
    "# Load a robot model (e.g., a KUKA arm)\n",
    "robot_id = p.loadURDF(\"kuka_iiwa/model.urdf\", useFixedBase=True)\n",
    "\n",
    "# Set gravity\n",
    "p.setGravity(0, 0, -9.81)\n",
    "\n",
    "# Simulate for 10 seconds\n",
    "for i in range(240 * 10):  # 240 Hz simulation frequency\n",
    "    p.stepSimulation()\n",
    "    time.sleep(1./240.)\n",
    "\n",
    "# Disconnect from the physics server\n",
    "p.disconnect()\n"
   ]
  }
 ],
 "metadata": {
  "kernelspec": {
   "display_name": "Python 3",
   "language": "python",
   "name": "python3"
  },
  "language_info": {
   "codemirror_mode": {
    "name": "ipython",
    "version": 3
   },
   "file_extension": ".py",
   "mimetype": "text/x-python",
   "name": "python",
   "nbconvert_exporter": "python",
   "pygments_lexer": "ipython3",
   "version": "3.9.6"
  }
 },
 "nbformat": 4,
 "nbformat_minor": 2
}
