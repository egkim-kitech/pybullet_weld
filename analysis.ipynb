{
 "cells": [
  {
   "cell_type": "code",
   "execution_count": 1,
   "metadata": {},
   "outputs": [
    {
     "name": "stdout",
     "output_type": "stream",
     "text": [
      "d:\\pybullet_weldingrobot\\robots\\rb5_850e.urdf\n"
     ]
    },
    {
     "ename": "error",
     "evalue": "Cannot load URDF file.",
     "output_type": "error",
     "traceback": [
      "\u001b[1;31m---------------------------------------------------------------------------\u001b[0m",
      "\u001b[1;31merror\u001b[0m                                     Traceback (most recent call last)",
      "Cell \u001b[1;32mIn[1], line 19\u001b[0m\n\u001b[0;32m     17\u001b[0m urdf_file1 \u001b[38;5;241m=\u001b[39m os\u001b[38;5;241m.\u001b[39mpath\u001b[38;5;241m.\u001b[39mjoin(dirname,\u001b[38;5;124m'\u001b[39m\u001b[38;5;124mrb5_850e.urdf\u001b[39m\u001b[38;5;124m'\u001b[39m)\n\u001b[0;32m     18\u001b[0m \u001b[38;5;28mprint\u001b[39m(urdf_file1)\n\u001b[1;32m---> 19\u001b[0m robot_id \u001b[38;5;241m=\u001b[39m \u001b[43mp\u001b[49m\u001b[38;5;241;43m.\u001b[39;49m\u001b[43mloadURDF\u001b[49m\u001b[43m(\u001b[49m\u001b[43murdf_file1\u001b[49m\u001b[43m,\u001b[49m\u001b[43m \u001b[49m\u001b[43museFixedBase\u001b[49m\u001b[38;5;241;43m=\u001b[39;49m\u001b[38;5;28;43;01mTrue\u001b[39;49;00m\u001b[43m)\u001b[49m\n",
      "\u001b[1;31merror\u001b[0m: Cannot load URDF file."
     ]
    }
   ],
   "source": [
    "import pybullet_data\n",
    "import pybullet as p\n",
    "import os\n",
    "p.connect(p.GUI)  # Use p.DIRECT for headless\n",
    "\n",
    "data_path = pybullet_data.getDataPath()\n",
    "p.setAdditionalSearchPath(pybullet_data.getDataPath())\n",
    "\n",
    "plane_id = p.loadURDF(\"plane.urdf\")\n",
    "\n",
    "# Get the path to the PyBullet data directory\n",
    "data_path = pybullet_data.getDataPath()\n",
    "\n",
    "# List the files in the PyBullet data directory\n",
    "files = os.getcwd()\n",
    "dirname = os.path.join(files,'robots')\n",
    "urdf_file1 = os.path.join(dirname,'rb5_850e.urdf')\n",
    "print(urdf_file1)\n",
    "robot_id = p.loadURDF(urdf_file1, useFixedBase=True)"
   ]
  },
  {
   "cell_type": "code",
   "execution_count": 4,
   "metadata": {},
   "outputs": [
    {
     "name": "stdout",
     "output_type": "stream",
     "text": [
      "d:\\pybullet_weldingrobot\\robots\\rb5_850e.urdf\n"
     ]
    },
    {
     "ename": "error",
     "evalue": "Cannot load URDF file.",
     "output_type": "error",
     "traceback": [
      "\u001b[1;31m---------------------------------------------------------------------------\u001b[0m",
      "\u001b[1;31merror\u001b[0m                                     Traceback (most recent call last)",
      "Cell \u001b[1;32mIn[4], line 6\u001b[0m\n\u001b[0;32m      4\u001b[0m urdf_file1 \u001b[38;5;241m=\u001b[39m os\u001b[38;5;241m.\u001b[39mpath\u001b[38;5;241m.\u001b[39mjoin(dirname,\u001b[38;5;124m'\u001b[39m\u001b[38;5;124mrb5_850e.urdf\u001b[39m\u001b[38;5;124m'\u001b[39m)\n\u001b[0;32m      5\u001b[0m \u001b[38;5;28mprint\u001b[39m(urdf_file1)\n\u001b[1;32m----> 6\u001b[0m robot_id \u001b[38;5;241m=\u001b[39m \u001b[43mp\u001b[49m\u001b[38;5;241;43m.\u001b[39;49m\u001b[43mloadURDF\u001b[49m\u001b[43m(\u001b[49m\u001b[43murdf_file1\u001b[49m\u001b[43m,\u001b[49m\u001b[43m \u001b[49m\u001b[43museFixedBase\u001b[49m\u001b[38;5;241;43m=\u001b[39;49m\u001b[38;5;28;43;01mTrue\u001b[39;49;00m\u001b[43m)\u001b[49m\n",
      "\u001b[1;31merror\u001b[0m: Cannot load URDF file."
     ]
    }
   ],
   "source": [
    "# List the files in the PyBullet data directory\n",
    "files = os.getcwd()\n",
    "dirname = os.path.join(files,'robots')\n",
    "urdf_file1 = os.path.join(dirname,'rb5_850e.urdf')\n",
    "print(urdf_file1)\n",
    "robot_id = p.loadURDF(urdf_file1, useFixedBase=True)"
   ]
  },
  {
   "cell_type": "code",
   "execution_count": 1,
   "metadata": {},
   "outputs": [
    {
     "ename": "error",
     "evalue": "Cannot load URDF file.",
     "output_type": "error",
     "traceback": [
      "\u001b[1;31m---------------------------------------------------------------------------\u001b[0m",
      "\u001b[1;31merror\u001b[0m                                     Traceback (most recent call last)",
      "Cell \u001b[1;32mIn[1], line 30\u001b[0m\n\u001b[0;32m     28\u001b[0m start_pos \u001b[38;5;241m=\u001b[39m np\u001b[38;5;241m.\u001b[39marray([\u001b[38;5;241m0\u001b[39m, \u001b[38;5;241m0\u001b[39m, \u001b[38;5;241m0\u001b[39m])\n\u001b[0;32m     29\u001b[0m start_orientation \u001b[38;5;241m=\u001b[39m p\u001b[38;5;241m.\u001b[39mgetQuaternionFromEuler([\u001b[38;5;241m0\u001b[39m, \u001b[38;5;241m0\u001b[39m, \u001b[38;5;241m0\u001b[39m])\n\u001b[1;32m---> 30\u001b[0m robot \u001b[38;5;241m=\u001b[39m \u001b[43mpi\u001b[49m\u001b[38;5;241;43m.\u001b[39;49m\u001b[43mRobotBase\u001b[49m\u001b[43m(\u001b[49m\u001b[43murdf_file1\u001b[49m\u001b[43m,\u001b[49m\u001b[43m \u001b[49m\u001b[43mstart_pos\u001b[49m\u001b[43m \u001b[49m\u001b[38;5;241;43m+\u001b[39;49m\u001b[43m \u001b[49m\u001b[43m[\u001b[49m\u001b[38;5;241;43m0\u001b[39;49m\u001b[43m,\u001b[49m\u001b[43m \u001b[49m\u001b[38;5;241;43m0\u001b[39;49m\u001b[43m,\u001b[49m\u001b[43m \u001b[49m\u001b[38;5;241;43m1\u001b[39;49m\u001b[43m]\u001b[49m\u001b[43m,\u001b[49m\u001b[43m \u001b[49m\u001b[43mstart_orientation\u001b[49m\u001b[43m)\u001b[49m\n\u001b[0;32m     32\u001b[0m \u001b[38;5;66;03m# Set gravity\u001b[39;00m\n\u001b[0;32m     33\u001b[0m p\u001b[38;5;241m.\u001b[39msetGravity(\u001b[38;5;241m0\u001b[39m, \u001b[38;5;241m0\u001b[39m, \u001b[38;5;241m-\u001b[39m\u001b[38;5;241m9.81\u001b[39m)\n",
      "File \u001b[1;32mc:\\Users\\b34b3\\AppData\\Local\\Programs\\Python\\Python312\\Lib\\site-packages\\pybullet_industrial\\robot_base.py:23\u001b[0m, in \u001b[0;36mRobotBase.__init__\u001b[1;34m(self, urdf_model, start_position, start_orientation, default_endeffector)\u001b[0m\n\u001b[0;32m     19\u001b[0m \u001b[38;5;28;01mdef\u001b[39;00m\u001b[38;5;250m \u001b[39m\u001b[38;5;21m__init__\u001b[39m(\u001b[38;5;28mself\u001b[39m, urdf_model: \u001b[38;5;28mstr\u001b[39m, start_position: np\u001b[38;5;241m.\u001b[39marray, start_orientation: np\u001b[38;5;241m.\u001b[39marray,\n\u001b[0;32m     20\u001b[0m              default_endeffector: \u001b[38;5;28mstr\u001b[39m \u001b[38;5;241m=\u001b[39m \u001b[38;5;28;01mNone\u001b[39;00m):\n\u001b[0;32m     22\u001b[0m     urdf_flags \u001b[38;5;241m=\u001b[39m p\u001b[38;5;241m.\u001b[39mURDF_USE_SELF_COLLISION_EXCLUDE_ALL_PARENTS\n\u001b[1;32m---> 23\u001b[0m     \u001b[38;5;28mself\u001b[39m\u001b[38;5;241m.\u001b[39murdf \u001b[38;5;241m=\u001b[39m \u001b[43mp\u001b[49m\u001b[38;5;241;43m.\u001b[39;49m\u001b[43mloadURDF\u001b[49m\u001b[43m(\u001b[49m\u001b[43murdf_model\u001b[49m\u001b[43m,\u001b[49m\n\u001b[0;32m     24\u001b[0m \u001b[43m                           \u001b[49m\u001b[43mstart_position\u001b[49m\u001b[43m,\u001b[49m\u001b[43m \u001b[49m\u001b[43mstart_orientation\u001b[49m\u001b[43m,\u001b[49m\n\u001b[0;32m     25\u001b[0m \u001b[43m                           \u001b[49m\u001b[43mflags\u001b[49m\u001b[38;5;241;43m=\u001b[39;49m\u001b[43murdf_flags\u001b[49m\u001b[43m,\u001b[49m\n\u001b[0;32m     26\u001b[0m \u001b[43m                           \u001b[49m\u001b[43museFixedBase\u001b[49m\u001b[38;5;241;43m=\u001b[39;49m\u001b[38;5;28;43;01mTrue\u001b[39;49;00m\u001b[43m)\u001b[49m\n\u001b[0;32m     28\u001b[0m     \u001b[38;5;28mself\u001b[39m\u001b[38;5;241m.\u001b[39mnumber_of_joints \u001b[38;5;241m=\u001b[39m p\u001b[38;5;241m.\u001b[39mgetNumJoints(\u001b[38;5;28mself\u001b[39m\u001b[38;5;241m.\u001b[39murdf)\n\u001b[0;32m     29\u001b[0m     \u001b[38;5;28mself\u001b[39m\u001b[38;5;241m.\u001b[39m_joint_state_shape \u001b[38;5;241m=\u001b[39m \u001b[38;5;28mself\u001b[39m\u001b[38;5;241m.\u001b[39mget_joint_state()\n",
      "\u001b[1;31merror\u001b[0m: Cannot load URDF file."
     ]
    }
   ],
   "source": [
    "import pybullet as p\n",
    "import os\n",
    "import time\n",
    "import pybullet_data\n",
    "import pybullet_industrial as pi\n",
    "import numpy as np\n",
    "\n",
    "# Get the path to the PyBullet data directory\n",
    "data_path = pybullet_data.getDataPath()\n",
    "\n",
    "# List the files in the PyBullet data directory\n",
    "files = os.getcwd()\n",
    "dirname = os.path.join(files,'robots')\n",
    "urdf_file1 = os.path.join(dirname,'rb5_850e.urdf')\n",
    "\n",
    "# Connect to the physics server\n",
    "p.connect(p.GUI)  # Use p.DIRECT for headless\n",
    "\n",
    "# Set the search path to find URDF files\n",
    "p.setAdditionalSearchPath(pybullet_data.getDataPath())\n",
    "\n",
    "# Load the plane\n",
    "plane_id = p.loadURDF(\"plane.urdf\")\n",
    "\n",
    "# Load a robot model (e.g., a KUKA arm)\n",
    "robot_id = p.loadURDF(\"kuka_iiwa/model.urdf\", useFixedBase=True)\n",
    "\n",
    "start_pos = np.array([0, 0, 0])\n",
    "start_orientation = p.getQuaternionFromEuler([0, 0, 0])\n",
    "robot = pi.RobotBase(urdf_file1, start_pos + [0, 0, 1], start_orientation)\n",
    "\n",
    "# Set gravity\n",
    "p.setGravity(0, 0, -9.81)\n",
    "\n",
    "# Simulate for 10 seconds\n",
    "for i in range(240 * 10):  # 240 Hz simulation frequency\n",
    "    p.stepSimulation()\n",
    "    time.sleep(1./240.)\n",
    "\n",
    "# Disconnect from the physics server\n",
    "p.disconnect()\n"
   ]
  }
 ],
 "metadata": {
  "kernelspec": {
   "display_name": "Python 3",
   "language": "python",
   "name": "python3"
  },
  "language_info": {
   "codemirror_mode": {
    "name": "ipython",
    "version": 3
   },
   "file_extension": ".py",
   "mimetype": "text/x-python",
   "name": "python",
   "nbconvert_exporter": "python",
   "pygments_lexer": "ipython3",
   "version": "3.12.7"
  }
 },
 "nbformat": 4,
 "nbformat_minor": 2
}
